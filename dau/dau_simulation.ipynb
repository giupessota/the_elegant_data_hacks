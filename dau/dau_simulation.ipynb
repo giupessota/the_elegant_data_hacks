{
 "cells": [
  {
   "cell_type": "markdown",
   "id": "11671db7",
   "metadata": {},
   "source": [
    "# DAU Simulation\n",
    "\n",
    "Este notebook simula dados fictícios para demonstrar o cálculo de DAU (Daily Active Users)."
   ]
  },
  {
   "cell_type": "code",
   "execution_count": 6,
   "id": "203ed58b",
   "metadata": {},
   "outputs": [],
   "source": [
    "import pandas as pd\n",
    "import plotly.express as px\n",
    "import numpy as np\n",
    "from datetime import timedelta"
   ]
  },
  {
   "cell_type": "markdown",
   "id": "fcce3eab",
   "metadata": {},
   "source": [
    "## Gerar dados simulados de uso de usuários"
   ]
  },
  {
   "cell_type": "code",
   "execution_count": 10,
   "id": "30ab009b",
   "metadata": {},
   "outputs": [
    {
     "data": {
      "text/html": [
       "<div>\n",
       "<style scoped>\n",
       "    .dataframe tbody tr th:only-of-type {\n",
       "        vertical-align: middle;\n",
       "    }\n",
       "\n",
       "    .dataframe tbody tr th {\n",
       "        vertical-align: top;\n",
       "    }\n",
       "\n",
       "    .dataframe thead th {\n",
       "        text-align: right;\n",
       "    }\n",
       "</style>\n",
       "<table border=\"1\" class=\"dataframe\">\n",
       "  <thead>\n",
       "    <tr style=\"text-align: right;\">\n",
       "      <th></th>\n",
       "      <th>user_id</th>\n",
       "      <th>date</th>\n",
       "    </tr>\n",
       "  </thead>\n",
       "  <tbody>\n",
       "    <tr>\n",
       "      <th>0</th>\n",
       "      <td>user_1</td>\n",
       "      <td>2025-03-28</td>\n",
       "    </tr>\n",
       "    <tr>\n",
       "      <th>1</th>\n",
       "      <td>user_1</td>\n",
       "      <td>2025-03-16</td>\n",
       "    </tr>\n",
       "    <tr>\n",
       "      <th>2</th>\n",
       "      <td>user_1</td>\n",
       "      <td>2025-03-24</td>\n",
       "    </tr>\n",
       "    <tr>\n",
       "      <th>3</th>\n",
       "      <td>user_1</td>\n",
       "      <td>2025-03-18</td>\n",
       "    </tr>\n",
       "    <tr>\n",
       "      <th>4</th>\n",
       "      <td>user_1</td>\n",
       "      <td>2025-03-09</td>\n",
       "    </tr>\n",
       "  </tbody>\n",
       "</table>\n",
       "</div>"
      ],
      "text/plain": [
       "  user_id       date\n",
       "0  user_1 2025-03-28\n",
       "1  user_1 2025-03-16\n",
       "2  user_1 2025-03-24\n",
       "3  user_1 2025-03-18\n",
       "4  user_1 2025-03-09"
      ]
     },
     "execution_count": 10,
     "metadata": {},
     "output_type": "execute_result"
    }
   ],
   "source": [
    "# Definir usuários e datas\n",
    "np.random.seed(42)\n",
    "users = [f\"user_{i}\" for i in range(1, 51)]\n",
    "start_date = pd.to_datetime(\"2025-03-01\")\n",
    "\n",
    "# Simular atividades\n",
    "data = []\n",
    "for user in users:\n",
    "    active_days = np.random.choice(range(30), size=np.random.randint(5, 15), replace=False)\n",
    "    for day in active_days:\n",
    "        data.append({\"user_id\": user, \"date\": start_date + timedelta(days=int(day))})\n",
    "\n",
    "df = pd.DataFrame(data)\n",
    "df.head()"
   ]
  },
  {
   "cell_type": "markdown",
   "id": "ecea79d3",
   "metadata": {},
   "source": [
    "## Calcular DAU"
   ]
  },
  {
   "cell_type": "code",
   "execution_count": 3,
   "id": "1644580a",
   "metadata": {},
   "outputs": [
    {
     "data": {
      "text/html": [
       "<div>\n",
       "<style scoped>\n",
       "    .dataframe tbody tr th:only-of-type {\n",
       "        vertical-align: middle;\n",
       "    }\n",
       "\n",
       "    .dataframe tbody tr th {\n",
       "        vertical-align: top;\n",
       "    }\n",
       "\n",
       "    .dataframe thead th {\n",
       "        text-align: right;\n",
       "    }\n",
       "</style>\n",
       "<table border=\"1\" class=\"dataframe\">\n",
       "  <thead>\n",
       "    <tr style=\"text-align: right;\">\n",
       "      <th></th>\n",
       "      <th>date</th>\n",
       "      <th>dau</th>\n",
       "    </tr>\n",
       "  </thead>\n",
       "  <tbody>\n",
       "    <tr>\n",
       "      <th>0</th>\n",
       "      <td>2025-03-01</td>\n",
       "      <td>16</td>\n",
       "    </tr>\n",
       "    <tr>\n",
       "      <th>1</th>\n",
       "      <td>2025-03-02</td>\n",
       "      <td>13</td>\n",
       "    </tr>\n",
       "    <tr>\n",
       "      <th>2</th>\n",
       "      <td>2025-03-03</td>\n",
       "      <td>18</td>\n",
       "    </tr>\n",
       "    <tr>\n",
       "      <th>3</th>\n",
       "      <td>2025-03-04</td>\n",
       "      <td>19</td>\n",
       "    </tr>\n",
       "    <tr>\n",
       "      <th>4</th>\n",
       "      <td>2025-03-05</td>\n",
       "      <td>16</td>\n",
       "    </tr>\n",
       "  </tbody>\n",
       "</table>\n",
       "</div>"
      ],
      "text/plain": [
       "        date  dau\n",
       "0 2025-03-01   16\n",
       "1 2025-03-02   13\n",
       "2 2025-03-03   18\n",
       "3 2025-03-04   19\n",
       "4 2025-03-05   16"
      ]
     },
     "execution_count": 3,
     "metadata": {},
     "output_type": "execute_result"
    }
   ],
   "source": [
    "dau = df.groupby(\"date\")[\"user_id\"].nunique().reset_index()\n",
    "dau.columns = [\"date\", \"dau\"]\n",
    "dau.head()"
   ]
  },
  {
   "cell_type": "markdown",
   "id": "c6cf4199",
   "metadata": {},
   "source": [
    "## Visualizar DAU com gráfico de linha"
   ]
  },
  {
   "cell_type": "code",
   "execution_count": 15,
   "id": "5669d42c",
   "metadata": {},
   "outputs": [
    {
     "name": "stdout",
     "output_type": "stream",
     "text": [
      "Erro ao renderizar no notebook. Tentando abrir no navegador...\n"
     ]
    }
   ],
   "source": [
    "# Criar gráfico\n",
    "fig = px.line(\n",
    "    dau,\n",
    "    x=\"date\",\n",
    "    y=\"dau\",\n",
    "    title=\"DAU - Daily Active Users (Simulação)\",\n",
    "    markers=True,\n",
    "    labels={\"date\": \"Data\", \"dau\": \"Usuários Ativos\"},\n",
    "    template=\"plotly_white\",\n",
    "    text=\"dau\"\n",
    ")\n",
    "\n",
    "fig.update_traces(textposition=\"top center\", line=dict(width=2))\n",
    "fig.update_layout(title_font_size=20)\n",
    "\n",
    "# Tenta mostrar no notebook (Jupyter)\n",
    "try:\n",
    "    fig.show()\n",
    "except Exception as e:\n",
    "    print(\"Erro ao renderizar no notebook. Tentando abrir no navegador...\")\n",
    "    fig.show(renderer=\"browser\")"
   ]
  }
 ],
 "metadata": {
  "kernelspec": {
   "display_name": "dau_wau_mau",
   "language": "python",
   "name": "python3"
  },
  "language_info": {
   "codemirror_mode": {
    "name": "ipython",
    "version": 3
   },
   "file_extension": ".py",
   "mimetype": "text/x-python",
   "name": "python",
   "nbconvert_exporter": "python",
   "pygments_lexer": "ipython3",
   "version": "3.10.8"
  }
 },
 "nbformat": 4,
 "nbformat_minor": 5
}
