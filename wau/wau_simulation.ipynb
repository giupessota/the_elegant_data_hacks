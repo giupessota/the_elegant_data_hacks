{
 "cells": [
  {
   "cell_type": "markdown",
   "id": "95d0dfd5",
   "metadata": {},
   "source": [
    "# WAU Simulation\n",
    "\n",
    "Este notebook simula dados fictícios para demonstrar o cálculo do WAU (Weekly Active Users), utilizando janelas rolantes de 7 dias e WAU fixo."
   ]
  },
  {
   "cell_type": "code",
   "execution_count": 1,
   "id": "ba492d45",
   "metadata": {},
   "outputs": [],
   "source": [
    "import pandas as pd\n",
    "import numpy as npß\n",
    "from datetime import timedelta\n",
    "import plotly.graph_objects as go"
   ]
  },
  {
   "cell_type": "markdown",
   "id": "a603c24c",
   "metadata": {},
   "source": [
    "## Simulação de dados fictícios"
   ]
  },
  {
   "cell_type": "code",
   "execution_count": 49,
   "id": "55da921c",
   "metadata": {},
   "outputs": [
    {
     "data": {
      "text/html": [
       "<div>\n",
       "<style scoped>\n",
       "    .dataframe tbody tr th:only-of-type {\n",
       "        vertical-align: middle;\n",
       "    }\n",
       "\n",
       "    .dataframe tbody tr th {\n",
       "        vertical-align: top;\n",
       "    }\n",
       "\n",
       "    .dataframe thead th {\n",
       "        text-align: right;\n",
       "    }\n",
       "</style>\n",
       "<table border=\"1\" class=\"dataframe\">\n",
       "  <thead>\n",
       "    <tr style=\"text-align: right;\">\n",
       "      <th></th>\n",
       "      <th>user_id</th>\n",
       "      <th>date</th>\n",
       "    </tr>\n",
       "  </thead>\n",
       "  <tbody>\n",
       "    <tr>\n",
       "      <th>0</th>\n",
       "      <td>user_1</td>\n",
       "      <td>2025-03-28</td>\n",
       "    </tr>\n",
       "    <tr>\n",
       "      <th>1</th>\n",
       "      <td>user_1</td>\n",
       "      <td>2025-03-16</td>\n",
       "    </tr>\n",
       "    <tr>\n",
       "      <th>2</th>\n",
       "      <td>user_1</td>\n",
       "      <td>2025-03-24</td>\n",
       "    </tr>\n",
       "    <tr>\n",
       "      <th>3</th>\n",
       "      <td>user_1</td>\n",
       "      <td>2025-03-18</td>\n",
       "    </tr>\n",
       "    <tr>\n",
       "      <th>4</th>\n",
       "      <td>user_1</td>\n",
       "      <td>2025-03-09</td>\n",
       "    </tr>\n",
       "  </tbody>\n",
       "</table>\n",
       "</div>"
      ],
      "text/plain": [
       "  user_id       date\n",
       "0  user_1 2025-03-28\n",
       "1  user_1 2025-03-16\n",
       "2  user_1 2025-03-24\n",
       "3  user_1 2025-03-18\n",
       "4  user_1 2025-03-09"
      ]
     },
     "execution_count": 49,
     "metadata": {},
     "output_type": "execute_result"
    }
   ],
   "source": [
    "# Simular dados de uso\n",
    "np.random.seed(42)\n",
    "users = [f\"user_{i}\" for i in range(1, 51)]\n",
    "start_date = pd.to_datetime(\"2025-03-01\")\n",
    "\n",
    "data = []\n",
    "for user in users:\n",
    "    active_days = np.random.choice(range(30), size=np.random.randint(5, 15), replace=False)\n",
    "    for day in active_days:\n",
    "        data.append({\"user_id\": user, \"date\": start_date + timedelta(days=int(day))})\n",
    "\n",
    "df = pd.DataFrame(data)\n",
    "df[\"date\"] = pd.to_datetime(df[\"date\"])\n",
    "df.head()"
   ]
  },
  {
   "cell_type": "markdown",
   "id": "71895722",
   "metadata": {},
   "source": [
    "## Cálculo do WAU (Weekly Active Users) com janela rolante"
   ]
  },
  {
   "cell_type": "code",
   "execution_count": 35,
   "id": "15005898",
   "metadata": {},
   "outputs": [
    {
     "data": {
      "text/html": [
       "<div>\n",
       "<style scoped>\n",
       "    .dataframe tbody tr th:only-of-type {\n",
       "        vertical-align: middle;\n",
       "    }\n",
       "\n",
       "    .dataframe tbody tr th {\n",
       "        vertical-align: top;\n",
       "    }\n",
       "\n",
       "    .dataframe thead th {\n",
       "        text-align: right;\n",
       "    }\n",
       "</style>\n",
       "<table border=\"1\" class=\"dataframe\">\n",
       "  <thead>\n",
       "    <tr style=\"text-align: right;\">\n",
       "      <th></th>\n",
       "      <th>date</th>\n",
       "      <th>wau</th>\n",
       "    </tr>\n",
       "  </thead>\n",
       "  <tbody>\n",
       "    <tr>\n",
       "      <th>0</th>\n",
       "      <td>2025-03-01</td>\n",
       "      <td>8</td>\n",
       "    </tr>\n",
       "    <tr>\n",
       "      <th>1</th>\n",
       "      <td>2025-03-02</td>\n",
       "      <td>15</td>\n",
       "    </tr>\n",
       "    <tr>\n",
       "      <th>2</th>\n",
       "      <td>2025-03-03</td>\n",
       "      <td>17</td>\n",
       "    </tr>\n",
       "    <tr>\n",
       "      <th>3</th>\n",
       "      <td>2025-03-04</td>\n",
       "      <td>21</td>\n",
       "    </tr>\n",
       "    <tr>\n",
       "      <th>4</th>\n",
       "      <td>2025-03-05</td>\n",
       "      <td>24</td>\n",
       "    </tr>\n",
       "  </tbody>\n",
       "</table>\n",
       "</div>"
      ],
      "text/plain": [
       "        date  wau\n",
       "0 2025-03-01    8\n",
       "1 2025-03-02   15\n",
       "2 2025-03-03   17\n",
       "3 2025-03-04   21\n",
       "4 2025-03-05   24"
      ]
     },
     "execution_count": 35,
     "metadata": {},
     "output_type": "execute_result"
    }
   ],
   "source": [
    "# Calcular WAU com janela rolante de 7 dias\n",
    "all_dates = pd.date_range(start=df[\"date\"].min(), end=df[\"date\"].max())\n",
    "\n",
    "wau_data = []\n",
    "for date in all_dates:\n",
    "    window_start = date - timedelta(days=6)\n",
    "    users_in_window = df[(df[\"date\"] >= window_start) & (df[\"date\"] <= date)][\"user_id\"].nunique()\n",
    "    wau_data.append({\"date\": date, \"wau\": users_in_window})\n",
    "\n",
    "wau_df = pd.DataFrame(wau_data)\n",
    "wau_df.head()"
   ]
  },
  {
   "cell_type": "markdown",
   "metadata": {},
   "source": [
    "## Cálculo do WAU (Weekly Active Users) com semanas fixas"
   ]
  },
  {
   "cell_type": "code",
   "execution_count": 46,
   "metadata": {},
   "outputs": [
    {
     "data": {
      "text/html": [
       "<div>\n",
       "<style scoped>\n",
       "    .dataframe tbody tr th:only-of-type {\n",
       "        vertical-align: middle;\n",
       "    }\n",
       "\n",
       "    .dataframe tbody tr th {\n",
       "        vertical-align: top;\n",
       "    }\n",
       "\n",
       "    .dataframe thead th {\n",
       "        text-align: right;\n",
       "    }\n",
       "</style>\n",
       "<table border=\"1\" class=\"dataframe\">\n",
       "  <thead>\n",
       "    <tr style=\"text-align: right;\">\n",
       "      <th></th>\n",
       "      <th>semana</th>\n",
       "      <th>wau</th>\n",
       "    </tr>\n",
       "  </thead>\n",
       "  <tbody>\n",
       "    <tr>\n",
       "      <th>0</th>\n",
       "      <td>2025-03-01 a 2025-03-07</td>\n",
       "      <td>34</td>\n",
       "    </tr>\n",
       "    <tr>\n",
       "      <th>1</th>\n",
       "      <td>2025-03-08 a 2025-03-14</td>\n",
       "      <td>31</td>\n",
       "    </tr>\n",
       "    <tr>\n",
       "      <th>2</th>\n",
       "      <td>2025-03-15 a 2025-03-21</td>\n",
       "      <td>36</td>\n",
       "    </tr>\n",
       "    <tr>\n",
       "      <th>3</th>\n",
       "      <td>2025-03-22 a 2025-03-28</td>\n",
       "      <td>33</td>\n",
       "    </tr>\n",
       "    <tr>\n",
       "      <th>4</th>\n",
       "      <td>2025-03-29 a 2025-03-31</td>\n",
       "      <td>23</td>\n",
       "    </tr>\n",
       "  </tbody>\n",
       "</table>\n",
       "</div>"
      ],
      "text/plain": [
       "                    semana  wau\n",
       "0  2025-03-01 a 2025-03-07   34\n",
       "1  2025-03-08 a 2025-03-14   31\n",
       "2  2025-03-15 a 2025-03-21   36\n",
       "3  2025-03-22 a 2025-03-28   33\n",
       "4  2025-03-29 a 2025-03-31   23"
      ]
     },
     "execution_count": 46,
     "metadata": {},
     "output_type": "execute_result"
    }
   ],
   "source": [
    "# Calcular WAU fixo por semana\n",
    "weeks = []\n",
    "for i in range(0, 31, 7):\n",
    "    start_date = pd.to_datetime(\"2025-03-01\") + timedelta(days=i)\n",
    "    end_date = min(start_date + timedelta(days=6), pd.to_datetime(\"2025-03-31\"))\n",
    "    users = df[(df[\"date\"] >= start_date) & (df[\"date\"] <= end_date)][\"user_id\"].nunique()\n",
    "    weeks.append({\"semana\": f\"{start_date.date()} a {end_date.date()}\", \"wau\": users})\n",
    "\n",
    "wau_fixo_df = pd.DataFrame(weeks)\n",
    "wau_fixo_df.head()"
   ]
  },
  {
   "cell_type": "markdown",
   "id": "f4b5e03e",
   "metadata": {},
   "source": [
    "## Visualização do WAU com Plotly"
   ]
  },
  {
   "cell_type": "markdown",
   "metadata": {},
   "source": [
    "## WAU Fixo"
   ]
  },
  {
   "cell_type": "code",
   "execution_count": 47,
   "metadata": {},
   "outputs": [
    {
     "name": "stdout",
     "output_type": "stream",
     "text": [
      "Erro ao renderizar no notebook. Tentando abrir no navegador...\n"
     ]
    }
   ],
   "source": [
    "wau_fixo_chart = go.Figure()\n",
    "\n",
    "wau_fixo_chart.add_trace(go.Bar(\n",
    "    x=wau_fixo_df[\"semana\"],\n",
    "    y=wau_fixo_df[\"wau\"],\n",
    "    text=wau_fixo_df[\"wau\"],\n",
    "    textposition=\"outside\",\n",
    "    name=\"WAU fixo\"\n",
    "))\n",
    "\n",
    "wau_fixo_chart.update_layout(\n",
    "    title=\"WAU fixo por semana (março/2025)\",\n",
    "    title_font_size=20,\n",
    "    xaxis_title=\"Semana\",\n",
    "    yaxis_title=\"Usuários Únicos\",\n",
    "    template=\"plotly_white\"\n",
    ")\n",
    "\n",
    "# Tenta mostrar no notebook (Jupyter)\n",
    "try:\n",
    "    wau_fixo_chart.show()\n",
    "except Exception as e:\n",
    "    print(\"Erro ao renderizar no notebook. Tentando abrir no navegador...\")\n",
    "    wau_fixo_chart.show(renderer=\"browser\")"
   ]
  },
  {
   "cell_type": "markdown",
   "metadata": {},
   "source": [
    "## WAU com janela rolante"
   ]
  },
  {
   "cell_type": "code",
   "execution_count": 48,
   "id": "2c75d5e4",
   "metadata": {},
   "outputs": [
    {
     "name": "stdout",
     "output_type": "stream",
     "text": [
      "Erro ao renderizar no notebook. Tentando abrir no navegador...\n"
     ]
    }
   ],
   "source": [
    "wau_rolling_window = go.Figure()\n",
    "\n",
    "# Adiciona linha de WAU com data labels\n",
    "wau_rolling_window.add_trace(go.Scatter(\n",
    "    x=wau_df[\"date\"],\n",
    "    y=wau_df[\"wau\"],\n",
    "    mode=\"lines+markers+text\",\n",
    "    name=\"WAU\",\n",
    "    text=wau_df[\"wau\"],\n",
    "    textposition=\"top center\"\n",
    "))\n",
    "\n",
    "wau_rolling_window.update_layout(\n",
    "    title=\"WAU - Weekly Active Users\",\n",
    "    title_font_size=20,\n",
    "    xaxis_title=\"Data\",\n",
    "    yaxis_title=\"Usuários Únicos na Janela de 7 dias\",\n",
    "    template=\"plotly_white\"\n",
    ")\n",
    "\n",
    "# Tenta mostrar no notebook (Jupyter)\n",
    "try:\n",
    "    wau_rolling_window.show()\n",
    "except Exception as e:\n",
    "    print(\"Erro ao renderizar no notebook. Tentando abrir no navegador...\")\n",
    "    wau_rolling_window.show(renderer=\"browser\")"
   ]
  }
 ],
 "metadata": {
  "kernelspec": {
   "display_name": "dau_wau_mau",
   "language": "python",
   "name": "python3"
  },
  "language_info": {
   "codemirror_mode": {
    "name": "ipython",
    "version": 3
   },
   "file_extension": ".py",
   "mimetype": "text/x-python",
   "name": "python",
   "nbconvert_exporter": "python",
   "pygments_lexer": "ipython3",
   "version": "3.10.8"
  }
 },
 "nbformat": 4,
 "nbformat_minor": 5
}
